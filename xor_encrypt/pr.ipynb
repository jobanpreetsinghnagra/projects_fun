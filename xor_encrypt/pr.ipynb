{
 "cells": [
  {
   "cell_type": "code",
   "execution_count": 1,
   "id": "a8dd8587",
   "metadata": {},
   "outputs": [],
   "source": [
    "import secrets #import secrets module"
   ]
  },
  {
   "cell_type": "code",
   "execution_count": 2,
   "id": "0ffe8c81",
   "metadata": {},
   "outputs": [
    {
     "name": "stdout",
     "output_type": "stream",
     "text": [
      "d4bd1f0d87dcebe5a16761b91cd8f62a\n"
     ]
    }
   ],
   "source": [
    "key_size = 16\n",
    "e_key = secrets.token_hex(key_size)\n",
    "print(e_key) #generation of the encryption key"
   ]
  },
  {
   "cell_type": "code",
   "execution_count": 3,
   "id": "0da7a262",
   "metadata": {},
   "outputs": [],
   "source": [
    "#opening user given text file\n",
    "u_file = open(\"test.txt\",\"r\")\n",
    "\n",
    "#converting the user file to a string for XOR operation\n",
    "user_file = str(u_file.read())"
   ]
  },
  {
   "cell_type": "code",
   "execution_count": 4,
   "id": "dee30ef5",
   "metadata": {},
   "outputs": [
    {
     "name": "stdout",
     "output_type": "stream",
     "text": [
      "RichardPhillipsFeynmanwasanAmericantheoreticalphysicist.Heisbestknownforhisworkinthepathintegralformulationofquantummechanics,thetheoryofquantumelectrodynamics,thephysicsofthesuperfluidityofsupercooledliquidhelium,andinparticlephysics,forwhichheproposedthepartonmodel.\n"
     ]
    }
   ],
   "source": [
    "#eliminating the new line  using split and join\n",
    "split_text = user_file.split(\"\\n\")\n",
    "join_text = \"\".join(split_text)\n",
    "#eliminating spaces using replace\n",
    "user_string = join_text.replace(\" \",\"\")\n",
    "print(user_string)"
   ]
  },
  {
   "cell_type": "code",
   "execution_count": 5,
   "id": "6e2a646e",
   "metadata": {},
   "outputs": [],
   "source": [
    "#function for XOR \n",
    "def xor_string(hex_key, input_data):\n",
    "    key_bytes = bytes.fromhex(hex_key)\n",
    "    \n",
    "    # Handle both string and bytes input\n",
    "    if isinstance(input_data, str):\n",
    "        input_bytes = input_data.encode()\n",
    "    else:\n",
    "        input_bytes = input_data\n",
    "        \n",
    "    repeated_key = (key_bytes * ((len(input_bytes) // len(key_bytes)) + 1))[:len(input_bytes)]\n",
    "    xored_bytes = bytes(b ^ k for b, k in zip(input_bytes, repeated_key))\n",
    "    return xored_bytes"
   ]
  },
  {
   "cell_type": "code",
   "execution_count": 6,
   "id": "53385d3a",
   "metadata": {},
   "outputs": [
    {
     "name": "stdout",
     "output_type": "stream",
     "text": [
      "XORed Output (hex): 86d47c65e6ae8fb5c90e0dd575a8856cb1c47160e6b29c84d2060ff871bd8443b7dc7179efb98497c41308da7db48642adce766eeeaf9fcbe90208ca7ebd855ebfd3707ae9ba8497c90e12ce73aa9d43bac97768f7bd9f8dc80915dc7baa9746b2d26d60f2b08a91c8080fd67aa9834bbac96a60eab9888dc00908da6ff48242b1c97768e8ae928ac71614d872ac8347b1d17a6ef3ae8481d80900d475bb8506a0d57a7defa5988cc2140edf68b09359a1cd7a7fe1b09e8cc50e15c073be855fa4d86d6ee8b38780c50b08c869b19242b1d17678eaf08a8bc50e0fc97daa8243b7d17a7defa5988cc2144ddf73aa8142bdde7765e2ac998ad10812dc78ac9e4fa4dc6d79e8b2868ac5020d97\n"
     ]
    }
   ],
   "source": [
    "# Perform XOR\n",
    "xored_result = xor_string(e_key, user_string)\n",
    "\n",
    "# Print result as hex string\n",
    "print(\"XORed Output (hex):\", xored_result.hex())\n"
   ]
  },
  {
   "cell_type": "code",
   "execution_count": 7,
   "id": "fd0bea93",
   "metadata": {},
   "outputs": [],
   "source": [
    "#store the Key and XORED file\n",
    "with open(\"the_key.txt\", \"w\") as f:\n",
    "  f.write(e_key)\n",
    "with open(\"the_output.txt\", \"w\") as f:\n",
    "  f.write(xored_result.hex())"
   ]
  },
  {
   "cell_type": "code",
   "execution_count": 10,
   "id": "48b077d9",
   "metadata": {},
   "outputs": [
    {
     "name": "stdout",
     "output_type": "stream",
     "text": [
      "Decrypted Text: RichardPhillipsFeynmanwasanAmericantheoreticalphysicist.Heisbestknownforhisworkinthepathintegralformulationofquantummechanics,thetheoryofquantumelectrodynamics,thephysicsofthesuperfluidityofsupercooledliquidhelium,andinparticlephysics,forwhichheproposedthepartonmodel.\n"
     ]
    }
   ],
   "source": [
    "# Decrypting using the same key\n",
    "the_key = open(\"the_key.txt\", \"r\").read()\n",
    "the_input = open(\"the_output.txt\", \"rb\")  # Open in binary read mode\n",
    "the_input_byte = bytes.fromhex(the_input.read().decode()) # Read as bytes, decode to string for fromhex\n",
    "decrypted = xor_string(the_key, the_input_byte)\n",
    "print(\"Decrypted Text:\", decrypted.decode())"
   ]
  },
  {
   "cell_type": "code",
   "execution_count": null,
   "id": "1f4974a2",
   "metadata": {},
   "outputs": [
    {
     "name": "stdout",
     "output_type": "stream",
     "text": [
      "XORed Output (hex): 200c1804065f493a0e19091d49\n",
      "XORed output and key written to my_xored_data.txt successfully.\n",
      "XORed Output (hex): 3b06190d49111019041845110d1b11\n",
      "XORed output and key written to xored_output.txt successfully.\n",
      "Decrypted Text: Hello, World!\n"
     ]
    }
   ],
   "source": [
    "# class Crypt:\n",
    "#     def __init__(self, generated_key, given_string):\n",
    "#         self.generated_key = generated_key\n",
    "#         self.given_string = given_string\n",
    "#         self.xored_bytes = None  # Store the XORed bytes\n",
    "\n",
    "#     def Encrypt(self):\n",
    "#         key_bytes = bytes.fromhex(self.generated_key)\n",
    "\n",
    "#         # Handle both string and bytes input\n",
    "#         if isinstance(self.given_string, str):\n",
    "#             input_bytes = self.given_string.encode()\n",
    "#         else:\n",
    "#             input_bytes = self.given_string\n",
    "\n",
    "#         repeated_key = (key_bytes * ((len(input_bytes) // len(key_bytes)) + 1))[:len(input_bytes)]\n",
    "#         self.xored_bytes = bytes(b ^ k for b, k in zip(input_bytes, repeated_key))\n",
    "\n",
    "#         # Print result as hex string\n",
    "#         print(\"XORed Output (hex):\", self.xored_bytes.hex())\n",
    "\n",
    "#     def write_to_file(self, filename=\"xored_output.txt\"):\n",
    "#         \"\"\"\n",
    "#         Writes the XORed bytes (in hex) and the key to a file.\n",
    "\n",
    "#         Args:\n",
    "#             filename (str, optional): The name of the file to write to.  Defaults to \"xored_output.txt\".\n",
    "#         \"\"\"\n",
    "#         if self.xored_bytes is None:\n",
    "#             print(\"Error: Encryption not performed. No data to write.\")\n",
    "#             return  # Important: Exit if there's no data\n",
    "\n",
    "#         with open(filename, \"w\") as f:\n",
    "#             f.write(\"Key (hex): \" + self.generated_key + \"\\n\")\n",
    "#             f.write(\"XORed Output (hex): \" + self.xored_bytes.hex() + \"\\n\")\n",
    "#         print(f\"XORed output and key written to {filename} successfully.\")\n",
    "\n",
    "#     def Decrypt(self, key, encrypted_file):\n",
    "#         \"\"\"\n",
    "#         Decrypts the contents of an encrypted file using the provided key.\n",
    "#         Args:\n",
    "#             key (str): The hexadecimal string of the key used for encryption. encrypted_file (str): The name of the file containing the encrypted data.\n",
    "#         Returns:\n",
    "#             bytes: The decrypted bytes, or None on error.\n",
    "#         \"\"\"\n",
    "#         try:\n",
    "#             with open(encrypted_file, \"r\") as f:\n",
    "#                 # Read the file content.  We expect the format to be:\n",
    "#                 # Key (hex): <key_value>\n",
    "#                 # XORed Output (hex): <xored_bytes_value>\n",
    "#                 lines = f.readlines()\n",
    "#                 if len(lines) != 2:\n",
    "#                     print(\"Error: Invalid encrypted file format. Expected two lines.\")\n",
    "#                     return None\n",
    "\n",
    "#                 key_line = lines[0].strip()\n",
    "#                 xored_line = lines[1].strip()\n",
    "\n",
    "#                 if not key_line.startswith(\"Key (hex): \"):\n",
    "#                     print(\"Error: Invalid encrypted file format: Key line is malformed.\")\n",
    "#                     return None\n",
    "\n",
    "#                 if not xored_line.startswith(\"XORed Output (hex): \"):\n",
    "#                     print(\"Error: Invalid encrypted file format: XORed Output line is malformed.\")\n",
    "#                     return None\n",
    "#                 file_key = key_line[len(\"Key (hex): \"):]\n",
    "#                 xored_hex = xored_line[len(\"XORed Output (hex): \"):]\n",
    "\n",
    "#                 if file_key != key:\n",
    "#                     print(\"Error: provided key does not match the key used to encrypt the file.\")\n",
    "#                     return None\n",
    "#                 key_bytes = bytes.fromhex(key)\n",
    "#                 xored_bytes = bytes.fromhex(xored_hex)\n",
    "#         except FileNotFoundError:\n",
    "#             print(f\"Error: Encrypted file not found: {encrypted_file}\")\n",
    "#             return None\n",
    "#         except ValueError:\n",
    "#             print(\"Error: Invalid hexadecimal data in the encrypted file.\")\n",
    "#             return None\n",
    "#         except Exception as e:\n",
    "#             print(f\"An unexpected error occurred: {e}\")\n",
    "#             return None\n",
    "\n",
    "#         # Decrypt using the same XOR logic\n",
    "#         repeated_key = (key_bytes * ((len(xored_bytes) // len(key_bytes)) + 1))[:len(xored_bytes)]\n",
    "#         decrypted_bytes = bytes(b ^ k for b, k in zip(xored_bytes, repeated_key))\n",
    "#         return decrypted_bytes\n",
    "\n",
    "# # Example Usage (assuming you have a key and a string):\n",
    "# generated_key = \"686974686973696d616b6579\"  # Example key\n",
    "# given_string = \"Hello, World!\"  # Example string\n",
    "\n",
    "# # Create an instance of the Crypt class\n",
    "# crypt_instance = Crypt(generated_key, given_string)\n",
    "# # Call the Encrypt method to perform the XOR operation and store in self.xored_bytes\n",
    "# crypt_instance.Encrypt()\n",
    "# # Call the write_to_file method to write the output to a file\n",
    "# crypt_instance.write_to_file(\"my_xored_data.txt\")\n",
    "\n",
    "# given_bytes = b'Some bytes here'\n",
    "# crypt_instance2 = Crypt(generated_key, given_bytes)\n",
    "# crypt_instance2.Encrypt()\n",
    "# crypt_instance2.write_to_file()\n",
    "# # Example of Decrypt usage:\n",
    "# decrypted_data = crypt_instance.Decrypt(generated_key, \"my_xored_data.txt\")\n",
    "# if decrypted_data:\n",
    "#     print(\"Decrypted Text:\", decrypted_data.decode())\n"
   ]
  },
  {
   "cell_type": "code",
   "execution_count": null,
   "id": "1dfd1d81",
   "metadata": {},
   "outputs": [],
   "source": []
  }
 ],
 "metadata": {
  "kernelspec": {
   "display_name": "ml",
   "language": "python",
   "name": "python3"
  },
  "language_info": {
   "codemirror_mode": {
    "name": "ipython",
    "version": 3
   },
   "file_extension": ".py",
   "mimetype": "text/x-python",
   "name": "python",
   "nbconvert_exporter": "python",
   "pygments_lexer": "ipython3",
   "version": "3.13.2"
  }
 },
 "nbformat": 4,
 "nbformat_minor": 5
}
