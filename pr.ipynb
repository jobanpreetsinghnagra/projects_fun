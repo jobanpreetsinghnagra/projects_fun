{
 "cells": [
  {
   "cell_type": "code",
   "execution_count": 1,
   "id": "a8dd8587",
   "metadata": {},
   "outputs": [],
   "source": [
    "import secrets #import secrets module"
   ]
  },
  {
   "cell_type": "code",
   "execution_count": 2,
   "id": "0ffe8c81",
   "metadata": {},
   "outputs": [
    {
     "name": "stdout",
     "output_type": "stream",
     "text": [
      "eb822275d6b8185de95968d4781335cd\n"
     ]
    }
   ],
   "source": [
    "key_size = 16\n",
    "e_key = secrets.token_hex(key_size)\n",
    "print(e_key) #generation of the encryption key"
   ]
  },
  {
   "cell_type": "code",
   "execution_count": 3,
   "id": "0da7a262",
   "metadata": {},
   "outputs": [],
   "source": [
    "#opening user given text file\n",
    "u_file = open(\"test.txt\",\"r\")\n",
    "\n",
    "#converting the user file to a string for XOR operation\n",
    "user_file = str(u_file.read())"
   ]
  },
  {
   "cell_type": "code",
   "execution_count": 4,
   "id": "dee30ef5",
   "metadata": {},
   "outputs": [
    {
     "name": "stdout",
     "output_type": "stream",
     "text": [
      "hellomynameisjobanthisisasampletextfileiamanoob\n"
     ]
    }
   ],
   "source": [
    "#eliminating the new line  using split and join\n",
    "split_text = user_file.split(\"\\n\")\n",
    "join_text = \"\".join(split_text)\n",
    "#eliminating spaces using replace\n",
    "user_string = join_text.replace(\" \",\"\")\n",
    "print(user_string)"
   ]
  },
  {
   "cell_type": "code",
   "execution_count": null,
   "id": "6e2a646e",
   "metadata": {},
   "outputs": [],
   "source": [
    "def xor_string(hex_key, input_data):\n",
    "    key_bytes = bytes.fromhex(hex_key)\n",
    "    \n",
    "    # Handle both string and bytes input\n",
    "    if isinstance(input_data, str):\n",
    "        input_bytes = input_data.encode()\n",
    "    else:\n",
    "        input_bytes = input_data\n",
    "        \n",
    "    repeated_key = (key_bytes * ((len(input_bytes) // len(key_bytes)) + 1))[:len(input_bytes)]\n",
    "    xored_bytes = bytes(b ^ k for b, k in zip(input_bytes, repeated_key))\n",
    "    return xored_bytes"
   ]
  },
  {
   "cell_type": "code",
   "execution_count": 12,
   "id": "53385d3a",
   "metadata": {},
   "outputs": [
    {
     "name": "stdout",
     "output_type": "stream",
     "text": [
      "XORed Output (hex): 83e74e19b9d5613388340dbd0b795aaf8aec561dbfcb712e882a09b9087f50b98efa5613bfd47d34883409ba177c57\n"
     ]
    }
   ],
   "source": [
    "# Perform XOR\n",
    "xored_result = xor_string(e_key, user_string)\n",
    "\n",
    "# Print result as hex string\n",
    "print(\"XORed Output (hex):\", xored_result.hex())\n"
   ]
  },
  {
   "cell_type": "code",
   "execution_count": 13,
   "id": "48b077d9",
   "metadata": {},
   "outputs": [
    {
     "name": "stdout",
     "output_type": "stream",
     "text": [
      "Decrypted Text: hellomynameisjobanthisisasampletextfileiamanoob\n"
     ]
    }
   ],
   "source": [
    "# Decrypting using the same key\n",
    "decrypted = xor_string(e_key, xored_result)\n",
    "print(\"Decrypted Text:\", decrypted.decode())"
   ]
  },
  {
   "cell_type": "code",
   "execution_count": null,
   "id": "7e2ffeb6",
   "metadata": {},
   "outputs": [],
   "source": [
    "class Crypt:\n",
    "    def __init__(self,generated_key,given_string):\n",
    "        self.generated_key = generated_key\n",
    "        self.given_string = given_string\n",
    "\n",
    "    def Encrypt(self):\n",
    "        key_bytes = bytes.fromhex(self.generated_key)\n",
    "        \n",
    "        # Handle both string and bytes input\n",
    "        if isinstance(self.given_string, str):\n",
    "            input_bytes = self.given_string.encode()\n",
    "        else:\n",
    "            input_bytes = self.given_string\n",
    "            \n",
    "        repeated_key = (key_bytes * ((len(input_bytes) // len(key_bytes)) + 1))[:len(input_bytes)]\n",
    "        self.xored_bytes = bytes(b ^ k for b, k in zip(input_bytes, repeated_key))\n",
    "\n",
    "        def write_to_file(self, filename=\"xored_output.txt\"):\n",
    "            \"\"\"\n",
    "            Writes the XORed bytes (in hex) and the key to a file.\n",
    "\n",
    "            Args:\n",
    "                filename (str, optional): The name of the file to write to.\n",
    "                    Defaults to \"xored_output.txt\".\n",
    "            \"\"\"\n",
    "            if self.xored_bytes is None:\n",
    "                print(\"Error: Encryption not performed. No data to write.\")\n",
    "                return  # Important: Exit if there's no data\n",
    "\n",
    "            with open(filename, \"w\") as f:\n",
    "                f.write(\"Key (hex): \" + self.generated_key + \"\\n\")\n",
    "                f.write(\"XORed Output (hex): \" + self.xored_bytes.hex() + \"\\n\")\n",
    "            print(f\"XORed output and key written to {filename} successfully.\")\n"
   ]
  },
  {
   "cell_type": "code",
   "execution_count": null,
   "id": "1f4974a2",
   "metadata": {},
   "outputs": [],
   "source": []
  }
 ],
 "metadata": {
  "kernelspec": {
   "display_name": "ml",
   "language": "python",
   "name": "python3"
  },
  "language_info": {
   "codemirror_mode": {
    "name": "ipython",
    "version": 3
   },
   "file_extension": ".py",
   "mimetype": "text/x-python",
   "name": "python",
   "nbconvert_exporter": "python",
   "pygments_lexer": "ipython3",
   "version": "3.13.2"
  }
 },
 "nbformat": 4,
 "nbformat_minor": 5
}
