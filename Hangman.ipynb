{
  "nbformat": 4,
  "nbformat_minor": 0,
  "metadata": {
    "colab": {
      "provenance": []
    },
    "kernelspec": {
      "name": "python3",
      "display_name": "Python 3"
    },
    "language_info": {
      "name": "python"
    }
  },
  "cells": [
    {
      "cell_type": "code",
      "execution_count": 35,
      "metadata": {
        "colab": {
          "base_uri": "https://localhost:8080/"
        },
        "id": "gFR4kv56nUPN",
        "outputId": "05d741ca-2d5f-4254-e7eb-3f41a0761530"
      },
      "outputs": [
        {
          "output_type": "stream",
          "name": "stdout",
          "text": [
            "length of the words list:  4\n",
            "choosing the random index: 1\n",
            "the random word is: roman\n",
            "the length of random word is: 5\n",
            "the no of lives you have:  5\n"
          ]
        }
      ],
      "source": [
        "\"\"\" Joban'x Implementation of Hangman\"\"\"\n",
        "\n",
        "import random as rd\n",
        "#words list contain elements to be randomly chosen\n",
        "words = [\"jashan\",\"roman\",\"abhi\",\"bhullar\"]\n",
        "len_words = len(words)\n",
        "\n",
        "#choosing a random word by choosing a random int in the range 0 to length of words list(inclusive)\n",
        "random_word_index = rd.randint(0,len_words-1)\n",
        "random_word = words[random_word_index]\n",
        "\n",
        "\n",
        "lifes = len(random_word)\n",
        "print(\"length of the words list: \",len_words)\n",
        "print(\"choosing the random index:\",random_word_index)\n",
        "print(\"the random word is:\",random_word)\n",
        "print(\"the length of random word is:\",len(random_word))\n",
        "print(\"the no of lives you have: \",lifes)"
      ]
    },
    {
      "cell_type": "code",
      "source": [
        "#creating the list with as many blanks as the chosen word\n",
        "primary_r_word = []\n",
        "x= len(random_word)\n",
        "counter = 0\n",
        "while counter < x:\n",
        "  primary_r_word.append('_')\n",
        "  counter = counter +1\n",
        "\n",
        "print(primary_r_word)"
      ],
      "metadata": {
        "colab": {
          "base_uri": "https://localhost:8080/"
        },
        "id": "fVCCL2WoolLb",
        "outputId": "9bdae75a-9783-433b-ffdb-f919f9b7508d"
      },
      "execution_count": 36,
      "outputs": [
        {
          "output_type": "stream",
          "name": "stdout",
          "text": [
            "['_', '_', '_', '_', '_']\n"
          ]
        }
      ]
    },
    {
      "cell_type": "code",
      "source": [
        "# Game loop - continue until game ends\n",
        "while True:\n",
        "    # Show current state\n",
        "    print(\"Current word:\", ' '.join(primary_r_word))\n",
        "    print(\"Lives remaining:\", lifes)\n",
        "\n",
        "    guessed_word = input(\"Please Guess a letter: \")\n",
        "\n",
        "    if guessed_word in random_word: #if the guessed letter is in the random word\n",
        "        print(\"Good guess!\")\n",
        "        for x in range(len(random_word)):#iteration over the random word to replace at the correct place\n",
        "            if random_word[x] == guessed_word:\n",
        "                primary_r_word[x] = guessed_word\n",
        "\n",
        "        # Check if all blanks are filled (word is complete)\n",
        "        if '_' not in primary_r_word:\n",
        "            print(\"Congratulations! You won!\")\n",
        "            print(\"The word was:\", random_word)\n",
        "            break\n",
        "\n",
        "    else: #guessed letter is wrong\n",
        "        print(\"Wrong guess!\")\n",
        "        lifes = lifes - 1 #decrease the life\n",
        "        if lifes == 0: #if lives are exhausted game over\n",
        "            print(\"Game Over!\")\n",
        "            print(\"The word was:\", random_word)\n",
        "            break"
      ],
      "metadata": {
        "colab": {
          "base_uri": "https://localhost:8080/"
        },
        "id": "WcicgO9nsSDJ",
        "outputId": "1063ebd7-f999-4ec5-8eb7-f1aefa177022"
      },
      "execution_count": 37,
      "outputs": [
        {
          "output_type": "stream",
          "name": "stdout",
          "text": [
            "Current word: _ _ _ _ _\n",
            "Lives remaining: 5\n",
            "Please Guess a letter: r\n",
            "Good guess!\n",
            "Current word: r _ _ _ _\n",
            "Lives remaining: 5\n",
            "Please Guess a letter: o\n",
            "Good guess!\n",
            "Current word: r o _ _ _\n",
            "Lives remaining: 5\n",
            "Please Guess a letter: m\n",
            "Good guess!\n",
            "Current word: r o m _ _\n",
            "Lives remaining: 5\n",
            "Please Guess a letter: n\n",
            "Good guess!\n",
            "Current word: r o m _ n\n",
            "Lives remaining: 5\n",
            "Please Guess a letter: x\n",
            "Wrong guess!\n",
            "Current word: r o m _ n\n",
            "Lives remaining: 4\n",
            "Please Guess a letter: x\n",
            "Wrong guess!\n",
            "Current word: r o m _ n\n",
            "Lives remaining: 3\n",
            "Please Guess a letter: x\n",
            "Wrong guess!\n",
            "Current word: r o m _ n\n",
            "Lives remaining: 2\n",
            "Please Guess a letter: x\n",
            "Wrong guess!\n",
            "Current word: r o m _ n\n",
            "Lives remaining: 1\n",
            "Please Guess a letter: a\n",
            "Good guess!\n",
            "Congratulations! You won!\n",
            "The word was: roman\n"
          ]
        }
      ]
    },
    {
      "cell_type": "code",
      "source": [],
      "metadata": {
        "id": "UsNOPInrtVyC"
      },
      "execution_count": null,
      "outputs": []
    }
  ]
}